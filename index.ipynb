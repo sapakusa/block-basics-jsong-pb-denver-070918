{
 "cells": [
  {
   "cell_type": "markdown",
   "metadata": {},
   "source": [
    "# Blocks\n",
    "\n",
    "Transactions essentially transfer bitcoins from one party to another and are authorized by signatures. This definitely ensures that the sender actually authorized the transaction, but what if the sender sends the same amount to multiple people? This is called the double-spending problem and is so called because the owner of an output may try to spend the same output twice. How is the receiver to be assured that they actually received the amount?\n",
    "\n",
    "This is where the major innovation of Bitcoin comes in with Blocks. Think of Blocks as a way to order transactions. By ordering transactions, a double-spend cannot happen as the transaction that happens later is not valid.\n",
    "\n",
    "Now it would be really nice if we could order transactions one at a time, but that would require everyone to agree which transaction is supposed to be next and would cause a lot of overhead in coming to consensus. We can also order large batches of transactions, maybe once per day, but that wouldn't be very practical as the transactions would settle only once per day.\n",
    "\n",
    "Bitcoin settles every 10 minutes in batches of transactions. These batches of transactions what blocks are. In this chapter we'll go through how to parse them and how to check what's called the proof of work.\n",
    "\n",
    "### Try it\n",
    "\n",
    "#### What is the double_sha256 of this block? Notice anything?\n",
    "```\n",
    "020000208ec39428b17323fa0ddec8e887b4a7c53b8c0a0a220cfd0000000000000000005b0750fce0a889502d40508d39576821155e9c9e3f5c3157f961db38fd8b25be1e77a759e93c0118a4ffd71d\n",
    "```"
   ]
  },
  {
   "cell_type": "code",
   "execution_count": 1,
   "metadata": {},
   "outputs": [
    {
     "name": "stdout",
     "output_type": "stream",
     "text": [
      "2375044d646ad73594dd0b37b113becdb03964584c9e7e000000000000000000\n"
     ]
    }
   ],
   "source": [
    "from helper import double_sha256\n",
    "\n",
    "hex_block = '020000208ec39428b17323fa0ddec8e887b4a7c53b8c0a0a220cfd0000000000000000005b0750fce0a889502d40508d39576821155e9c9e3f5c3157f961db38fd8b25be1e77a759e93c0118a4ffd71d'\n",
    "\n",
    "# bytes.fromhex to get the binary\n",
    "block = bytes.fromhex(hex_block)\n",
    "# double_sha256 the result\n",
    "s = double_sha256(block)\n",
    "# hex() to see what it looks like\n",
    "print (s.hex())"
   ]
  },
  {
   "cell_type": "markdown",
   "metadata": {},
   "source": [
    "### Headers vs Full Blocks\n",
    "\n",
    "Blocks are batches of transactions and the block header is metadata about the block itself. It has the following fields:\n",
    "\n",
    "* Version\n",
    "* Previous Block\n",
    "* Merkle Root\n",
    "* Timestamp\n",
    "* Bits\n",
    "* Nonce\n",
    "\n",
    "This is the metadata for every block. The nice thing is that each field is fixed length. Version is 4 bytes, Previous Block is 32 bytes, Merkle Root is 32 bytes, Timestamp is 4 bytes, Bits is 4 bytes and Nonce is 4 bytes. The headers therefore, take up exactly 80 bytes for each block. As of this writing there are roughly 520,000 blocks so that ends up being roughl 40 megabytes. The entire blockchain, on the other hand, is roughly 150 GB, so the headers are roughly .027% of the size. This ends up becoming an important design consideration when we look at Simplified Payment Verification."
   ]
  },
  {
   "cell_type": "markdown",
   "metadata": {},
   "source": [
    "### Test Driven Exercise"
   ]
  },
  {
   "cell_type": "code",
   "execution_count": 3,
   "metadata": {
    "scrolled": true
   },
   "outputs": [],
   "source": [
    "from io import BytesIO\n",
    "from helper import (\n",
    "    double_sha256,\n",
    "    int_to_little_endian,\n",
    "    little_endian_to_int,\n",
    ")\n",
    "from block import Block\n",
    "\n",
    "class Block(Block):\n",
    "    \n",
    "    @classmethod\n",
    "    def parse(cls, s):\n",
    "        '''Takes a byte stream and parses a block. Returns a Block object'''\n",
    "        # s.read(n) will read n bytes from the stream\n",
    "        # version - 4 bytes, little endian, interpret as int\n",
    "        ver = little_endian_to_int(s.read(4))\n",
    "        # prev_block - 32 bytes, little endian (use [::-1] to reverse)\n",
    "        prev_block = s.read(32)[::-1]\n",
    "        # merkle_root - 32 bytes, little endian (use [::-1] to reverse)\n",
    "        merkle_root = s.read(32)[::-1]\n",
    "        # timestamp - 4 bytes, little endian, interpret as int\n",
    "        timestamp = little_endian_to_int(s.read(4))\n",
    "        # bits - 4 bytes\n",
    "        bits = s.read(4)\n",
    "        # nonce - 4 bytes\n",
    "        none = s.read(4)\n",
    "        # initialize class\n",
    "        return cls(version, prev_block, merkle_root, timestamp, bits, nonce)\n",
    "\n",
    "    def serialize(self):\n",
    "        '''Returns the 80 byte block header'''\n",
    "        # version - 4 bytes, little endian\n",
    "        result = int_to_little_endian(self.version, 4)\n",
    "        # prev_block - 32 bytes, little endian\n",
    "        result += self.prev_block[::-1]\n",
    "        # merkle_root - 32 bytes, little endian\n",
    "        result += self.merkle_root[::-1]\n",
    "        # timestamp - 4 bytes, little endian\n",
    "        result += int_to_little_endian(self.timestamp, 4)\n",
    "        # bits - 4 bytes\n",
    "        result += self.bits\n",
    "        # nonce - 4 bytes\n",
    "        result += self.nonce\n",
    "        return result\n",
    "\n",
    "    def hash(self):\n",
    "        '''Returns the double-sha256 interpreted little endian of the block'''\n",
    "        # serialize\n",
    "        s = self.serialize\n",
    "        # double-sha256\n",
    "        # reverse\n",
    "        pass"
   ]
  }
 ],
 "metadata": {
  "kernelspec": {
   "display_name": "Python 3",
   "language": "python",
   "name": "python3"
  },
  "language_info": {
   "codemirror_mode": {
    "name": "ipython",
    "version": 3
   },
   "file_extension": ".py",
   "mimetype": "text/x-python",
   "name": "python",
   "nbconvert_exporter": "python",
   "pygments_lexer": "ipython3",
   "version": "3.6.4"
  }
 },
 "nbformat": 4,
 "nbformat_minor": 2
}
